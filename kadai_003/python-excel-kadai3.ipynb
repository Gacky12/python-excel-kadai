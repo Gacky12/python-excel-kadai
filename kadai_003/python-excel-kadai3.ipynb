{
 "cells": [
  {
   "cell_type": "code",
   "execution_count": 192,
   "id": "410c111a-8359-4855-98c3-faf014ec25c4",
   "metadata": {},
   "outputs": [],
   "source": [
    "import openpyxl"
   ]
  },
  {
   "cell_type": "code",
   "execution_count": 193,
   "id": "746cdfbf",
   "metadata": {},
   "outputs": [],
   "source": [
    "import pandas as pd"
   ]
  },
  {
   "cell_type": "code",
   "execution_count": 194,
   "id": "990bfef3",
   "metadata": {},
   "outputs": [],
   "source": [
    "from openpyxl.styles import PatternFill"
   ]
  },
  {
   "cell_type": "code",
   "execution_count": 195,
   "id": "ddb4ca3d",
   "metadata": {},
   "outputs": [],
   "source": [
    "file_list = ['2022_年間売上表.xlsx', '2023_年間売上表.xlsx']"
   ]
  },
  {
   "cell_type": "code",
   "execution_count": 196,
   "id": "1b75faed",
   "metadata": {},
   "outputs": [],
   "source": [
    "df = pd.DataFrame()"
   ]
  },
  {
   "cell_type": "code",
   "execution_count": 197,
   "id": "6691d782",
   "metadata": {},
   "outputs": [],
   "source": [
    "for file_name in file_list:\n",
    "    temp_df = pd.read_excel(file_name, header=None)\n",
    "    temp_df = temp_df.iloc[1:]\n",
    "    temp_df.columns = ['売上年', '商品', '金額（千円）']\n",
    "    df = pd.concat([df, temp_df], ignore_index=True)"
   ]
  },
  {
   "cell_type": "code",
   "execution_count": 198,
   "id": "935f7953",
   "metadata": {},
   "outputs": [
    {
     "name": "stdout",
     "output_type": "stream",
     "text": [
      "     売上年        商品 金額（千円）\n",
      "0   2022        紅茶   1200\n",
      "1   2022      ハチミツ   1000\n",
      "2   2022      セッケン   1300\n",
      "3   2022        紅茶    800\n",
      "4   2022  アロマキャンドル    900\n",
      "5   2022      ハチミツ    300\n",
      "6   2022      ハチミツ    560\n",
      "7   2022    ワイングラス    850\n",
      "8   2022  アロマキャンドル    810\n",
      "9   2022        包丁    940\n",
      "10  2022        水筒   1150\n",
      "11  2023        紅茶   1200\n",
      "12  2023      ハチミツ   1000\n",
      "13  2023        水筒    250\n",
      "14  2023     コーヒー豆    860\n",
      "15  2023      セッケン   1300\n",
      "16  2023        紅茶    670\n",
      "17  2023  アロマキャンドル    900\n",
      "18  2023    ワイングラス    850\n",
      "19  2023        包丁    940\n",
      "20  2023     フライパン    670\n",
      "21  2023        水筒   1150\n"
     ]
    }
   ],
   "source": [
    "print(df)"
   ]
  },
  {
   "cell_type": "code",
   "execution_count": 199,
   "id": "a6788bb7",
   "metadata": {},
   "outputs": [],
   "source": [
    "result = df.groupby(['商品', '売上年']).agg({'金額（千円）': 'sum'})"
   ]
  },
  {
   "cell_type": "code",
   "execution_count": 200,
   "id": "c7b5146a",
   "metadata": {},
   "outputs": [
    {
     "name": "stdout",
     "output_type": "stream",
     "text": [
      "              金額（千円）\n",
      "商品       売上年        \n",
      "アロマキャンドル 2022   1710\n",
      "         2023    900\n",
      "コーヒー豆    2023    860\n",
      "セッケン     2022   1300\n",
      "         2023   1300\n",
      "ハチミツ     2022   1860\n",
      "         2023   1000\n",
      "フライパン    2023    670\n",
      "ワイングラス   2022    850\n",
      "         2023    850\n",
      "包丁       2022    940\n",
      "         2023    940\n",
      "水筒       2022   1150\n",
      "         2023   1400\n",
      "紅茶       2022   2000\n",
      "         2023   1870\n"
     ]
    }
   ],
   "source": [
    "print(result)"
   ]
  },
  {
   "cell_type": "code",
   "execution_count": 201,
   "id": "dd9f2774",
   "metadata": {},
   "outputs": [],
   "source": [
    "with pd.ExcelWriter('売上集計表.xlsx', engine='openpyxl') as writer:\n",
    "    result.to_excel(writer, sheet_name='売上集計', index=True)"
   ]
  },
  {
   "cell_type": "code",
   "execution_count": 202,
   "id": "8bb7dcf2",
   "metadata": {},
   "outputs": [
    {
     "name": "stdout",
     "output_type": "stream",
     "text": [
      "              金額（千円）\n",
      "商品       売上年        \n",
      "アロマキャンドル 2022   1710\n",
      "         2023    900\n",
      "コーヒー豆    2023    860\n",
      "セッケン     2022   1300\n",
      "         2023   1300\n",
      "ハチミツ     2022   1860\n",
      "         2023   1000\n",
      "フライパン    2023    670\n",
      "ワイングラス   2022    850\n",
      "         2023    850\n",
      "包丁       2022    940\n",
      "         2023    940\n",
      "水筒       2022   1150\n",
      "         2023   1400\n",
      "紅茶       2022   2000\n",
      "         2023   1870\n"
     ]
    }
   ],
   "source": [
    "print(result)"
   ]
  },
  {
   "cell_type": "code",
   "execution_count": 203,
   "id": "96a7e4fb",
   "metadata": {},
   "outputs": [],
   "source": [
    "workbook = openpyxl.load_workbook('売上集計表.xlsx')\n",
    "sheet = workbook['売上集計']"
   ]
  },
  {
   "cell_type": "code",
   "execution_count": 204,
   "id": "874bda46",
   "metadata": {},
   "outputs": [],
   "source": [
    "for cell in sheet['1:1']:\n",
    "    cell.fill = PatternFill(patternType='solid', fgColor='F2F2F2')"
   ]
  },
  {
   "cell_type": "code",
   "execution_count": 205,
   "id": "0cb06fe4",
   "metadata": {},
   "outputs": [
    {
     "name": "stdout",
     "output_type": "stream",
     "text": [
      "<openpyxl.styles.fills.PatternFill object>\n",
      "Parameters:\n",
      "patternType='solid', fgColor=<openpyxl.styles.colors.Color object>\n",
      "Parameters:\n",
      "rgb='00F2F2F2', indexed=None, auto=None, theme=None, tint=0.0, type='rgb', bgColor=<openpyxl.styles.colors.Color object>\n",
      "Parameters:\n",
      "rgb='00000000', indexed=None, auto=None, theme=None, tint=0.0, type='rgb'\n"
     ]
    }
   ],
   "source": [
    "print(cell.fill)"
   ]
  },
  {
   "cell_type": "code",
   "execution_count": 206,
   "id": "d44902ca",
   "metadata": {},
   "outputs": [],
   "source": [
    "workbook.save('売上集計表.xlsx')"
   ]
  },
  {
   "cell_type": "code",
   "execution_count": null,
   "id": "4d39859d",
   "metadata": {},
   "outputs": [],
   "source": []
  }
 ],
 "metadata": {
  "kernelspec": {
   "display_name": "Python 3",
   "language": "python",
   "name": "python3"
  },
  "language_info": {
   "codemirror_mode": {
    "name": "ipython",
    "version": 3
   },
   "file_extension": ".py",
   "mimetype": "text/x-python",
   "name": "python",
   "nbconvert_exporter": "python",
   "pygments_lexer": "ipython3",
   "version": "3.12.5"
  }
 },
 "nbformat": 4,
 "nbformat_minor": 5
}
