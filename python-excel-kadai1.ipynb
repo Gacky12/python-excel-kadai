{
 "cells": [
  {
   "cell_type": "code",
   "execution_count": 45,
   "id": "e377e6d2-5e04-4b08-8a20-53567d9bdf00",
   "metadata": {},
   "outputs": [],
   "source": [
    "import openpyxl"
   ]
  },
  {
   "cell_type": "code",
   "execution_count": 46,
   "id": "e5eef19f",
   "metadata": {},
   "outputs": [],
   "source": [
    "from datetime import datetime"
   ]
  },
  {
   "cell_type": "code",
   "execution_count": 47,
   "id": "b1c11009",
   "metadata": {},
   "outputs": [],
   "source": [
    "workbook = openpyxl.Workbook()\n",
    "sheet = workbook.active"
   ]
  },
  {
   "cell_type": "code",
   "execution_count": 48,
   "id": "6ef06125",
   "metadata": {},
   "outputs": [],
   "source": [
    "sheet['B2'] = \"請求書\""
   ]
  },
  {
   "cell_type": "code",
   "execution_count": 49,
   "id": "c1faa9a3",
   "metadata": {},
   "outputs": [],
   "source": [
    "data = [\n",
    "    [\"株式会社ABC\"],\n",
    "    [\"〒101-0022 東京都千代田区神田練塀町300\"],\n",
    "    [\"TEL:03-1234-5678 FAX:03-1234-5678\"],\n",
    "    [\"担当者名:鈴木一郎 様\"]\n",
    "]"
   ]
  },
  {
   "cell_type": "code",
   "execution_count": 50,
   "id": "e46953ce",
   "metadata": {},
   "outputs": [],
   "source": [
    "start_row = 4\n",
    "start_col = 2 #B列"
   ]
  },
  {
   "cell_type": "code",
   "execution_count": 51,
   "id": "d185ec63",
   "metadata": {},
   "outputs": [],
   "source": [
    "for i, row in enumerate(data):\n",
    "    cell = sheet.cell(row=start_row + i, column=start_col)\n",
    "    cell.value = row[0]"
   ]
  },
  {
   "cell_type": "code",
   "execution_count": 52,
   "id": "a9889d34",
   "metadata": {},
   "outputs": [],
   "source": [
    "today = datetime.today()"
   ]
  },
  {
   "cell_type": "code",
   "execution_count": 53,
   "id": "173a1f48",
   "metadata": {},
   "outputs": [
    {
     "name": "stdout",
     "output_type": "stream",
     "text": [
      "2024/09/21\n"
     ]
    }
   ],
   "source": [
    "datetime = today.strftime('%Y/%m/%d')\n",
    "print(datetime)"
   ]
  },
  {
   "cell_type": "markdown",
   "id": "788de043",
   "metadata": {},
   "source": []
  },
  {
   "cell_type": "code",
   "execution_count": 54,
   "id": "b16e8291",
   "metadata": {},
   "outputs": [],
   "source": [
    "# date = [\n",
    "#     [\"No.\", \"0001\"],\n",
    "#     [\"日付\", datetime]\n",
    "# ]\n",
    "# print(date)\n",
    "# print(date[0])\n",
    "# print(date[1])"
   ]
  },
  {
   "cell_type": "code",
   "execution_count": 55,
   "id": "85113984",
   "metadata": {},
   "outputs": [
    {
     "name": "stdout",
     "output_type": "stream",
     "text": [
      "{'No.': '0001', '日付': '2024/09/21'}\n"
     ]
    }
   ],
   "source": [
    "date = {\n",
    "    \"No.\": \"0001\",\n",
    "    \"日付\": datetime\n",
    "}\n",
    "print(date)"
   ]
  },
  {
   "cell_type": "markdown",
   "id": "d7b7993e",
   "metadata": {},
   "source": [
    "i = 0"
   ]
  },
  {
   "cell_type": "code",
   "execution_count": 56,
   "id": "0acc1720",
   "metadata": {},
   "outputs": [],
   "source": [
    "# for i, row in enumerate(date):\n",
    "#     cell = sheet.cell(row=start_row + i, column=start_col)\n",
    "#     cell.value = row[i]\n",
    "#     print(row)\n",
    "#     cell2 = sheet.cell(row=start_row, column=start_col + i)\n",
    "#     cell2.value = row[i]\n",
    "#     print(row[i])\n"
   ]
  },
  {
   "cell_type": "code",
   "execution_count": 57,
   "id": "9879e2d4",
   "metadata": {},
   "outputs": [
    {
     "name": "stdout",
     "output_type": "stream",
     "text": [
      "No.\n",
      "0001\n",
      "日付\n",
      "2024/09/21\n"
     ]
    }
   ],
   "source": [
    "i = 0\n",
    "\n",
    "for k, v in date.items():\n",
    "    start_row = 4\n",
    "    start_col = 6\n",
    "    print(k)\n",
    "    print(v)\n",
    "    cell = sheet.cell(row=start_row + i, column=start_col)\n",
    "    cell.value = k\n",
    "    cell2 = sheet.cell(row=start_row + i, column=start_col + 1)\n",
    "    cell2.value = v\n",
    "    i += 1\n"
   ]
  },
  {
   "cell_type": "markdown",
   "id": "cc1bf2e4",
   "metadata": {},
   "source": []
  },
  {
   "cell_type": "code",
   "execution_count": 58,
   "id": "d34869b7",
   "metadata": {},
   "outputs": [],
   "source": [
    "start_row = 10\n",
    "start_col = 2"
   ]
  },
  {
   "cell_type": "code",
   "execution_count": 59,
   "id": "37365f27",
   "metadata": {},
   "outputs": [],
   "source": [
    "# header = ['商品名', '数量', '単価', '金額']"
   ]
  },
  {
   "cell_type": "code",
   "execution_count": 60,
   "id": "8fcbdfa6",
   "metadata": {},
   "outputs": [
    {
     "name": "stdout",
     "output_type": "stream",
     "text": [
      "[['商品名', '数量', '単価', '金額'], ['商品A', 2, 10000, 20000], ['商品B', 1, 15000, 15000], ['', '', '', 35000], ['', '', '', '']]\n"
     ]
    }
   ],
   "source": [
    "data_shouhin = [\n",
    "    ['商品名', '数量', '単価', '金額'],\n",
    "    ['商品A', 2, 10000, 20000],\n",
    "    ['商品B', 1, 15000, 15000],\n",
    "    ['', \"\", \"\", 35000],\n",
    "    [\"\", \"\", \"\", \"\",]\n",
    "]\n",
    "print(data_shouhin)"
   ]
  },
  {
   "cell_type": "code",
   "execution_count": 61,
   "id": "6c9535e6",
   "metadata": {},
   "outputs": [
    {
     "name": "stdout",
     "output_type": "stream",
     "text": [
      "20000\n",
      "15000\n",
      "35000\n",
      "3500.0\n",
      "38500.0\n"
     ]
    }
   ],
   "source": [
    "print(data_shouhin[1][3])\n",
    "print(data_shouhin[2][3])\n",
    "shoukei = data_shouhin[1][3] + data_shouhin[2][3]\n",
    "print(shoukei)\n",
    "shouhizei = shoukei * 0.1\n",
    "print(shouhizei)\n",
    "goukei = shoukei + shouhizei\n",
    "print(goukei)"
   ]
  },
  {
   "cell_type": "code",
   "execution_count": 62,
   "id": "f7b1927b",
   "metadata": {},
   "outputs": [
    {
     "name": "stdout",
     "output_type": "stream",
     "text": [
      "(['小計', '', '', 35000], ['消費税', '', '', 3500.0], ['合計', '', '', 38500.0])\n"
     ]
    }
   ],
   "source": [
    "lists = (\n",
    "    ['小計', \"\", \"\", shoukei],\n",
    "    ['消費税', \"\", \"\", shouhizei],\n",
    "    ['合計', \"\", \"\", goukei]\n",
    ")\n",
    "print(lists)"
   ]
  },
  {
   "cell_type": "code",
   "execution_count": 63,
   "id": "b8f08299",
   "metadata": {},
   "outputs": [],
   "source": [
    "i = 0\n",
    "\n",
    "for list in lists:\n",
    "    data_shouhin.append(lists[i])\n",
    "    i += 1"
   ]
  },
  {
   "cell_type": "code",
   "execution_count": 64,
   "id": "aa2d7fac",
   "metadata": {},
   "outputs": [],
   "source": [
    "# data_shouhin.append(['小計', \"\", \"\", shoukei])\n",
    "# data_shouhin.append(['消費税', \"\", \"\", shouhizei])\n",
    "# data_shouhin.append(['合計', \"\", \"\", goukei])"
   ]
  },
  {
   "cell_type": "code",
   "execution_count": 65,
   "id": "9ac0e4dc",
   "metadata": {},
   "outputs": [
    {
     "name": "stdout",
     "output_type": "stream",
     "text": [
      "[['商品名', '数量', '単価', '金額'], ['商品A', 2, 10000, 20000], ['商品B', 1, 15000, 15000], ['', '', '', 35000], ['', '', '', ''], ['小計', '', '', 35000], ['消費税', '', '', 3500.0], ['合計', '', '', 38500.0]]\n"
     ]
    }
   ],
   "source": [
    "print(data_shouhin)"
   ]
  },
  {
   "cell_type": "code",
   "execution_count": 66,
   "id": "7dff1fa6",
   "metadata": {},
   "outputs": [],
   "source": [
    "start_row = 10\n",
    "start_col = 2"
   ]
  },
  {
   "cell_type": "code",
   "execution_count": 83,
   "id": "24194b2c",
   "metadata": {},
   "outputs": [
    {
     "name": "stdout",
     "output_type": "stream",
     "text": [
      "商品名\n",
      "数量\n",
      "単価\n",
      "金額\n",
      "商品A\n",
      "2\n",
      "10000\n",
      "20000\n",
      "商品B\n",
      "1\n",
      "15000\n",
      "15000\n",
      "\n",
      "\n",
      "\n",
      "35000\n",
      "\n",
      "\n",
      "\n",
      "\n",
      "小計\n",
      "\n",
      "\n",
      "35000\n",
      "消費税\n",
      "\n",
      "\n",
      "3500.0\n",
      "合計\n",
      "\n",
      "\n",
      "38500.0\n"
     ]
    }
   ],
   "source": [
    "i = 0\n",
    "\n",
    "# for data_list in data_shouhin:\n",
    "\n",
    "for i, row in enumerate(data_shouhin):\n",
    "    start_row = 10\n",
    "    start_col = 2\n",
    "    \n",
    "    cell1 = sheet.cell(row=start_row + i, column=start_col)\n",
    "    cell.value = row[0]\n",
    "    print(row[0])\n",
    "    cell1 = sheet.cell(row=start_row + i, column=start_col + 1)\n",
    "    cell1.value = row[1]\n",
    "    print(row[1])\n",
    "    cell2 = sheet.cell(row=start_row + i, column=start_col + 2)\n",
    "    cell2.value = row[2]\n",
    "    print(row[2])\n",
    "    cell3 = sheet.cell(row=start_row + i, column=start_col + 3)\n",
    "    cell3.value = row[3]\n",
    "    print(row[3])\n",
    "    i += 1"
   ]
  },
  {
   "cell_type": "code",
   "execution_count": 84,
   "id": "ac156a2e",
   "metadata": {},
   "outputs": [],
   "source": [
    "backup_filename = f\"請求書_{today.strftime('%Y%m%d')}.xlsx\""
   ]
  },
  {
   "cell_type": "code",
   "execution_count": 85,
   "id": "c17d5036",
   "metadata": {},
   "outputs": [],
   "source": [
    "workbook.save(backup_filename)"
   ]
  },
  {
   "cell_type": "code",
   "execution_count": null,
   "id": "bac07bec",
   "metadata": {},
   "outputs": [],
   "source": []
  }
 ],
 "metadata": {
  "kernelspec": {
   "display_name": "Python 3",
   "language": "python",
   "name": "python3"
  },
  "language_info": {
   "codemirror_mode": {
    "name": "ipython",
    "version": 3
   },
   "file_extension": ".py",
   "mimetype": "text/x-python",
   "name": "python",
   "nbconvert_exporter": "python",
   "pygments_lexer": "ipython3",
   "version": "3.12.5"
  }
 },
 "nbformat": 4,
 "nbformat_minor": 5
}
