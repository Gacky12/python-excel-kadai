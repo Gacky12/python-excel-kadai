{
 "cells": [
  {
   "cell_type": "code",
   "execution_count": 15,
   "id": "565943e0-d771-40d0-9b87-53c57515b656",
   "metadata": {},
   "outputs": [],
   "source": [
    "import pandas as pd"
   ]
  },
  {
   "cell_type": "code",
   "execution_count": 16,
   "id": "00f19bfb",
   "metadata": {},
   "outputs": [],
   "source": [
    "import openpyxl"
   ]
  },
  {
   "cell_type": "code",
   "execution_count": 17,
   "id": "110b704b",
   "metadata": {},
   "outputs": [],
   "source": [
    "workbook = openpyxl.Workbook()\n",
    "sheet = workbook.active"
   ]
  },
  {
   "cell_type": "code",
   "execution_count": 18,
   "id": "9f36ac23",
   "metadata": {},
   "outputs": [],
   "source": [
    "df = pd.DataFrame({\n",
    "    '日付': ['2023-05-17', '2023-05-18', '2023-05-19', '2023-05-20', '2023-05-21'],\n",
    "    '社員名': ['山田', '佐藤', '鈴木', '田中', '高橋'],\n",
    "    '売上': ['100', '200', '150', '300', '250'],\n",
    "    '部門': ['メーカー', '代理店', 'メーカー', '商社', '代理店'],\n",
    "})"
   ]
  },
  {
   "cell_type": "code",
   "execution_count": 19,
   "id": "e8fe04b9",
   "metadata": {},
   "outputs": [
    {
     "name": "stdout",
     "output_type": "stream",
     "text": [
      "0    100\n",
      "1    200\n",
      "2    150\n",
      "3    300\n",
      "4    250\n",
      "Name: 売上, dtype: int64\n"
     ]
    }
   ],
   "source": [
    "# 数値に変換\n",
    "df['売上'] = pd.to_numeric(df['売上'])\n",
    "print(df['売上'])"
   ]
  },
  {
   "cell_type": "code",
   "execution_count": 22,
   "id": "af963cdb",
   "metadata": {},
   "outputs": [
    {
     "name": "stdout",
     "output_type": "stream",
     "text": [
      "200.0\n",
      "200.0\n"
     ]
    }
   ],
   "source": [
    "df['平均売上'] = df['売上'].mean()\n",
    "print(df['平均売上'][0])\n",
    "average_sales = df['平均売上'][0]\n",
    "print(average_sales)"
   ]
  },
  {
   "cell_type": "code",
   "execution_count": 23,
   "id": "3c98af14",
   "metadata": {},
   "outputs": [],
   "source": [
    "# 業績ランクの条件\n",
    "def performance(uriage, avg_sales):\n",
    "    if uriage >= avg_sales + 50:\n",
    "        return 'A'\n",
    "    elif uriage >= avg_sales:\n",
    "        return 'B'\n",
    "    elif uriage < avg_sales:\n",
    "        return 'C'\n",
    "    else:\n",
    "        return 'ランク外'\n",
    "    return ''"
   ]
  },
  {
   "cell_type": "code",
   "execution_count": 30,
   "id": "4c29ab8e",
   "metadata": {},
   "outputs": [
    {
     "name": "stdout",
     "output_type": "stream",
     "text": [
      "0    C\n",
      "1    B\n",
      "2    C\n",
      "3    A\n",
      "4    A\n",
      "Name: 業績ランク, dtype: object\n"
     ]
    }
   ],
   "source": [
    "df['業績ランク'] = df['売上'].apply(performance, avg_sales = average_sales)\n",
    "print(df['業績ランク'])"
   ]
  },
  {
   "cell_type": "code",
   "execution_count": 26,
   "id": "af0563ec",
   "metadata": {},
   "outputs": [],
   "source": [
    "workbook.save('業績.xlsx')"
   ]
  },
  {
   "cell_type": "code",
   "execution_count": 27,
   "id": "ca82b45b",
   "metadata": {},
   "outputs": [],
   "source": [
    "writer = pd.ExcelWriter('業績.xlsx')"
   ]
  },
  {
   "cell_type": "code",
   "execution_count": 28,
   "id": "3f2c4937",
   "metadata": {},
   "outputs": [],
   "source": [
    "df.to_excel(writer, sheet_name='Sheet1', index=False)"
   ]
  },
  {
   "cell_type": "code",
   "execution_count": 29,
   "id": "c4dae970",
   "metadata": {},
   "outputs": [],
   "source": [
    "writer.close()"
   ]
  },
  {
   "cell_type": "code",
   "execution_count": null,
   "id": "ef5e9aaf",
   "metadata": {},
   "outputs": [],
   "source": []
  },
  {
   "cell_type": "code",
   "execution_count": null,
   "id": "92853db9",
   "metadata": {},
   "outputs": [],
   "source": []
  }
 ],
 "metadata": {
  "kernelspec": {
   "display_name": "Python 3",
   "language": "python",
   "name": "python3"
  },
  "language_info": {
   "codemirror_mode": {
    "name": "ipython",
    "version": 3
   },
   "file_extension": ".py",
   "mimetype": "text/x-python",
   "name": "python",
   "nbconvert_exporter": "python",
   "pygments_lexer": "ipython3",
   "version": "3.12.5"
  }
 },
 "nbformat": 4,
 "nbformat_minor": 5
}
